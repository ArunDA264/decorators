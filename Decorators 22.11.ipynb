{
 "cells": [
  {
   "cell_type": "markdown",
   "id": "bb3ff9d1",
   "metadata": {},
   "source": [
    "### decorators"
   ]
  },
  {
   "cell_type": "markdown",
   "id": "302f1464",
   "metadata": {},
   "source": [
    "A decorator is a very powerful feature in Python that allows us to decorate or modify a function."
   ]
  },
  {
   "cell_type": "markdown",
   "id": "b97b7cd0",
   "metadata": {},
   "source": [
    "1.Passing a Function as Argument to another Function"
   ]
  },
  {
   "cell_type": "code",
   "execution_count": 5,
   "id": "335fe76b",
   "metadata": {},
   "outputs": [
    {
     "name": "stdout",
     "output_type": "stream",
     "text": [
      "Hii hello\n",
      "Welcome everyone!\n"
     ]
    }
   ],
   "source": [
    "def outer(f):\n",
    "    print(\"Hii hello\")\n",
    "    f()\n",
    "\n",
    "def inner():\n",
    "    print(\"Welcome everyone!\")\n",
    "\n",
    "outer(inner)"
   ]
  },
  {
   "cell_type": "code",
   "execution_count": 6,
   "id": "72d7cce1",
   "metadata": {},
   "outputs": [
    {
     "name": "stdout",
     "output_type": "stream",
     "text": [
      "hey chinchan\n",
      "hey bro\n"
     ]
    }
   ],
   "source": [
    "def foo(r):\n",
    "    print(\"hey chinchan\")\n",
    "    r()\n",
    "def too():\n",
    "    print(\"hey bro\")\n",
    "foo(too)\n",
    "    "
   ]
  },
  {
   "cell_type": "code",
   "execution_count": 7,
   "id": "74d0a0fa",
   "metadata": {},
   "outputs": [
    {
     "name": "stdout",
     "output_type": "stream",
     "text": [
      "leodas\n",
      "varma\n"
     ]
    }
   ],
   "source": [
    "def arun(rasta):\n",
    "    print('leodas')\n",
    "    rasta()\n",
    "def kumar():\n",
    "    print(\"varma\")\n",
    "arun(kumar)"
   ]
  },
  {
   "cell_type": "markdown",
   "id": "89404f5a",
   "metadata": {},
   "source": [
    "The function kumar() is passed as an argument to the function arun(), making its parameter \n",
    "func equal to the passed function kumar(). Inside the arun() function, the function rasta is called by writing rasta()."
   ]
  },
  {
   "cell_type": "markdown",
   "id": "f20b6fcf",
   "metadata": {},
   "source": [
    "2.Defining a Function inside another Function (Nested Function)\n"
   ]
  },
  {
   "cell_type": "markdown",
   "id": "c0ddb536",
   "metadata": {},
   "source": [
    "A function which is defined and called inside another function is called a nested function."
   ]
  },
  {
   "cell_type": "code",
   "execution_count": 11,
   "id": "50512782",
   "metadata": {},
   "outputs": [],
   "source": [
    "def outer(ra):\n",
    "    def inner():\n",
    "        print(\"name the college\")\n",
    "    ra()\n",
    "    return inner()"
   ]
  },
  {
   "cell_type": "code",
   "execution_count": 12,
   "id": "2d960e16",
   "metadata": {},
   "outputs": [],
   "source": [
    "def abc():\n",
    "    print(12345)\n"
   ]
  },
  {
   "cell_type": "code",
   "execution_count": 13,
   "id": "045fc5d2",
   "metadata": {},
   "outputs": [
    {
     "name": "stdout",
     "output_type": "stream",
     "text": [
      "12345\n",
      "name the college\n"
     ]
    }
   ],
   "source": [
    "outer(abc)"
   ]
  },
  {
   "cell_type": "code",
   "execution_count": 14,
   "id": "82fa19aa",
   "metadata": {},
   "outputs": [
    {
     "name": "stdout",
     "output_type": "stream",
     "text": [
      "This is outer function\n",
      "This is nested function\n"
     ]
    }
   ],
   "source": [
    "def outer():\n",
    "    def inner():  \n",
    "        print(\"This is nested function\")\n",
    "\n",
    "    print(\"This is outer function\")\n",
    "    inner() \n",
    "\n",
    "outer()  "
   ]
  },
  {
   "cell_type": "markdown",
   "id": "5f607a49",
   "metadata": {},
   "source": [
    "This is outer function\n",
    "This is nested function\n",
    "We defined a function named inner inside another function named outer. Thus, inner() is a nested function of outer(). The inner() function is called inside the outer() function by writing inner()."
   ]
  },
  {
   "cell_type": "markdown",
   "id": "d829a3a2",
   "metadata": {},
   "source": [
    "3.Returning a Nested Function from its Parent Function"
   ]
  },
  {
   "cell_type": "code",
   "execution_count": 23,
   "id": "9950c770",
   "metadata": {},
   "outputs": [],
   "source": [
    "def outer(q):\n",
    "    def inner():\n",
    "        print(\"hello\") # inner function\n",
    "        q() # def abc() will be executing\n",
    "        print(\"world\") # outer function\n",
    "    return inner()\n",
    "    \n",
    "def abc():\n",
    "    print(\"hi\")\n",
    "\n",
    " "
   ]
  },
  {
   "cell_type": "code",
   "execution_count": 24,
   "id": "144f0f06",
   "metadata": {},
   "outputs": [
    {
     "name": "stdout",
     "output_type": "stream",
     "text": [
      "hello\n",
      "hi\n",
      "world\n"
     ]
    }
   ],
   "source": [
    "outer(abc)    "
   ]
  },
  {
   "cell_type": "code",
   "execution_count": 34,
   "id": "49f42c76",
   "metadata": {},
   "outputs": [
    {
     "name": "stdout",
     "output_type": "stream",
     "text": [
      "Hey there!\n"
     ]
    }
   ],
   "source": [
    "def outer(x):\n",
    "    def inner():\n",
    "        print(x)\n",
    "\n",
    "    return inner()  # returning inner function\n",
    "\n",
    "message = outer(\"Hey there!\")\n",
    "message"
   ]
  },
  {
   "cell_type": "code",
   "execution_count": 33,
   "id": "daffa6e4",
   "metadata": {},
   "outputs": [
    {
     "name": "stdout",
     "output_type": "stream",
     "text": [
      "morning\n"
     ]
    }
   ],
   "source": [
    "def outer(a):\n",
    "    def inner():\n",
    "        print(a)\n",
    "        \n",
    "    return inner\n",
    "\n",
    "y = outer(\"morning\")\n",
    "y()"
   ]
  },
  {
   "cell_type": "markdown",
   "id": "d871988f",
   "metadata": {},
   "source": [
    "Hey there!\n",
    "This is an example of closure in which the outer() function returns its nested function inner() after \\\n",
    "attaching the value of the variable x to the code of inner()."
   ]
  },
  {
   "cell_type": "markdown",
   "id": "c0e9610f",
   "metadata": {},
   "source": [
    "4.Passing Parameterized Functions to Decorators"
   ]
  },
  {
   "cell_type": "code",
   "execution_count": null,
   "id": "604c9452",
   "metadata": {},
   "outputs": [],
   "source": []
  },
  {
   "cell_type": "code",
   "execution_count": 58,
   "id": "35ee0944",
   "metadata": {},
   "outputs": [
    {
     "data": {
      "text/plain": [
       "5.0"
      ]
     },
     "execution_count": 58,
     "metadata": {},
     "output_type": "execute_result"
    }
   ],
   "source": [
    "def decorator_division(func):\n",
    "    def division(a, b):\n",
    "        if b == 0:\n",
    "            return \"Can't divide!\"\n",
    "        else:\n",
    "            return a/b\n",
    "\n",
    "    return division  # returning inner function\n",
    "\n",
    "@decorator_division # may be or may not be mentioned\n",
    "def divide(num1, num2):\n",
    "    return num1/num2\n",
    "\n",
    "divide(10, 2)"
   ]
  },
  {
   "cell_type": "markdown",
   "id": "47ee5962",
   "metadata": {},
   "source": [
    "writing @decorator_division before the definition of the divide() \\\n",
    "function means that decorator_division() is applied as the decorator for divide()."
   ]
  },
  {
   "cell_type": "code",
   "execution_count": 38,
   "id": "7153b520",
   "metadata": {},
   "outputs": [
    {
     "name": "stdout",
     "output_type": "stream",
     "text": [
      "hello\n",
      "hi\n",
      "world\n"
     ]
    }
   ],
   "source": [
    "def outer(q):\n",
    "    def inner():\n",
    "        print(\"hello\") # inner function\n",
    "        q() # def abc() will be executing\n",
    "        print(\"world\") # outer function\n",
    "    return inner()\n",
    "@outer   \n",
    "def abc():\n",
    "    print(\"hi\")"
   ]
  },
  {
   "cell_type": "markdown",
   "id": "30020035",
   "metadata": {},
   "source": [
    "5.Python Chaining Decorators"
   ]
  },
  {
   "cell_type": "code",
   "execution_count": 66,
   "id": "bdcbdd23",
   "metadata": {},
   "outputs": [],
   "source": [
    "def akhil(a):\n",
    "    def kundan():\n",
    "        print(\"hii\")\n",
    "        a()\n",
    "        print(\"bro\")\n",
    "    return kundan\n",
    "\n",
    "def arun(a):\n",
    "    def kumar():\n",
    "        print(\"hello\")\n",
    "        a()\n",
    "        print(\"bro\")\n",
    "    return kumar\n",
    "\n",
    "@akhil\n",
    "@arun\n",
    "def x():\n",
    "    print(\"napster\")\n",
    "    \n",
    "\n",
    "\n"
   ]
  },
  {
   "cell_type": "code",
   "execution_count": 67,
   "id": "e88b8450",
   "metadata": {},
   "outputs": [
    {
     "name": "stdout",
     "output_type": "stream",
     "text": [
      "hii\n",
      "hello\n",
      "napster\n",
      "bro\n",
      "bro\n"
     ]
    }
   ],
   "source": [
    "x()"
   ]
  },
  {
   "cell_type": "code",
   "execution_count": null,
   "id": "99cdcdd4",
   "metadata": {},
   "outputs": [],
   "source": []
  }
 ],
 "metadata": {
  "kernelspec": {
   "display_name": "Python 3 (ipykernel)",
   "language": "python",
   "name": "python3"
  },
  "language_info": {
   "codemirror_mode": {
    "name": "ipython",
    "version": 3
   },
   "file_extension": ".py",
   "mimetype": "text/x-python",
   "name": "python",
   "nbconvert_exporter": "python",
   "pygments_lexer": "ipython3",
   "version": "3.11.5"
  }
 },
 "nbformat": 4,
 "nbformat_minor": 5
}
